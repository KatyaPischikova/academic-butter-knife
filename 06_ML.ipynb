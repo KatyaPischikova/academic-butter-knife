{
 "cells": [
  {
   "cell_type": "code",
   "execution_count": 56,
   "id": "49f12866",
   "metadata": {},
   "outputs": [],
   "source": [
    "import pandas as pd\n",
    "import numpy as np\n",
    "from sklearn.linear_model import LinearRegression, Lasso, LassoCV\n",
    "from sklearn.model_selection import train_test_split\n",
    "from sklearn.metrics import mean_squared_error, mean_absolute_error, r2_score\n",
    "import statsmodels.api as sm\n",
    "from statsmodels.stats.api import linear_rainbow\n",
    "import warnings\n",
    "warnings.filterwarnings(\"ignore\")"
   ]
  },
  {
   "cell_type": "markdown",
   "id": "6331a633",
   "metadata": {},
   "source": [
    "Для построения моделей мы будем использовать датасет с фильмами, так как в датасете с картинками много пропусков, которые нельзя заменить (там пропуски носят смысловой характер). К сожалению, из-за этих ограничений мы не сможем провести анализ коэффициентов, чтобы понять, какие посты повышают ER (с фильмами или с картинками), но мы уже проверили это в гипотезах."
   ]
  },
  {
   "cell_type": "code",
   "execution_count": 32,
   "id": "e2bbe608",
   "metadata": {},
   "outputs": [
    {
     "data": {
      "text/html": [
       "<div>\n",
       "<style scoped>\n",
       "    .dataframe tbody tr th:only-of-type {\n",
       "        vertical-align: middle;\n",
       "    }\n",
       "\n",
       "    .dataframe tbody tr th {\n",
       "        vertical-align: top;\n",
       "    }\n",
       "\n",
       "    .dataframe thead th {\n",
       "        text-align: right;\n",
       "    }\n",
       "</style>\n",
       "<table border=\"1\" class=\"dataframe\">\n",
       "  <thead>\n",
       "    <tr style=\"text-align: right;\">\n",
       "      <th></th>\n",
       "      <th>likes</th>\n",
       "      <th>reposts</th>\n",
       "      <th>views</th>\n",
       "      <th>comments</th>\n",
       "      <th>attachments</th>\n",
       "      <th>text</th>\n",
       "      <th>movie</th>\n",
       "      <th>director</th>\n",
       "      <th>year</th>\n",
       "      <th>additional_info</th>\n",
       "      <th>...</th>\n",
       "      <th>globe_winner</th>\n",
       "      <th>movie_flg</th>\n",
       "      <th>log_likes</th>\n",
       "      <th>log_reposts</th>\n",
       "      <th>log_views</th>\n",
       "      <th>log_comments</th>\n",
       "      <th>reactions</th>\n",
       "      <th>ER</th>\n",
       "      <th>prize</th>\n",
       "      <th>other_award</th>\n",
       "    </tr>\n",
       "  </thead>\n",
       "  <tbody>\n",
       "    <tr>\n",
       "      <th>0</th>\n",
       "      <td>46</td>\n",
       "      <td>30</td>\n",
       "      <td>5841</td>\n",
       "      <td>3</td>\n",
       "      <td>9</td>\n",
       "      <td>«Чернокнижник: Армагеддон», 1993 год. \\nРежисс...</td>\n",
       "      <td>Чернокнижник: Армагеддон</td>\n",
       "      <td>Энтони Хикокс</td>\n",
       "      <td>1993</td>\n",
       "      <td>NaN</td>\n",
       "      <td>...</td>\n",
       "      <td>0.0</td>\n",
       "      <td>True</td>\n",
       "      <td>3.850148</td>\n",
       "      <td>3.433987</td>\n",
       "      <td>8.672828</td>\n",
       "      <td>1.386294</td>\n",
       "      <td>79</td>\n",
       "      <td>1.352508</td>\n",
       "      <td>0.0</td>\n",
       "      <td>0.0</td>\n",
       "    </tr>\n",
       "    <tr>\n",
       "      <th>1</th>\n",
       "      <td>274</td>\n",
       "      <td>561</td>\n",
       "      <td>31437</td>\n",
       "      <td>3</td>\n",
       "      <td>9</td>\n",
       "      <td>«Губная помада», 1976 год. \\nРежиссер: Ламонт ...</td>\n",
       "      <td>Губная помада</td>\n",
       "      <td>Ламонт Джонсон</td>\n",
       "      <td>1976</td>\n",
       "      <td>Марго Хемингуэй играет модель Крис, которая у...</td>\n",
       "      <td>...</td>\n",
       "      <td>0.0</td>\n",
       "      <td>True</td>\n",
       "      <td>5.616771</td>\n",
       "      <td>6.331502</td>\n",
       "      <td>10.355773</td>\n",
       "      <td>1.386294</td>\n",
       "      <td>838</td>\n",
       "      <td>2.665649</td>\n",
       "      <td>0.0</td>\n",
       "      <td>0.0</td>\n",
       "    </tr>\n",
       "    <tr>\n",
       "      <th>2</th>\n",
       "      <td>102</td>\n",
       "      <td>82</td>\n",
       "      <td>13583</td>\n",
       "      <td>3</td>\n",
       "      <td>9</td>\n",
       "      <td>«Соблазн», 2001 год. \\nРежиссер: Майкл Кристофер.</td>\n",
       "      <td>Соблазн</td>\n",
       "      <td>Майкл Кристофер</td>\n",
       "      <td>2001</td>\n",
       "      <td>NaN</td>\n",
       "      <td>...</td>\n",
       "      <td>0.0</td>\n",
       "      <td>True</td>\n",
       "      <td>4.634729</td>\n",
       "      <td>4.418841</td>\n",
       "      <td>9.516648</td>\n",
       "      <td>1.386294</td>\n",
       "      <td>187</td>\n",
       "      <td>1.376721</td>\n",
       "      <td>0.0</td>\n",
       "      <td>0.0</td>\n",
       "    </tr>\n",
       "    <tr>\n",
       "      <th>3</th>\n",
       "      <td>348</td>\n",
       "      <td>132</td>\n",
       "      <td>26569</td>\n",
       "      <td>1</td>\n",
       "      <td>9</td>\n",
       "      <td>«Красота по-американски», 1999 год. \\nРежиссер...</td>\n",
       "      <td>Красота по-американски</td>\n",
       "      <td>Сэм Мендес</td>\n",
       "      <td>1999</td>\n",
       "      <td>NaN</td>\n",
       "      <td>...</td>\n",
       "      <td>1.0</td>\n",
       "      <td>True</td>\n",
       "      <td>5.855072</td>\n",
       "      <td>4.890349</td>\n",
       "      <td>10.187538</td>\n",
       "      <td>0.693147</td>\n",
       "      <td>481</td>\n",
       "      <td>1.810381</td>\n",
       "      <td>2.0</td>\n",
       "      <td>1.0</td>\n",
       "    </tr>\n",
       "    <tr>\n",
       "      <th>4</th>\n",
       "      <td>512</td>\n",
       "      <td>172</td>\n",
       "      <td>32902</td>\n",
       "      <td>8</td>\n",
       "      <td>9</td>\n",
       "      <td>«Дневник баскетболиста», 1995 год. \\nРежиссер:...</td>\n",
       "      <td>Дневник баскетболиста</td>\n",
       "      <td>Скотт Кэлверт</td>\n",
       "      <td>1995</td>\n",
       "      <td>NaN</td>\n",
       "      <td>...</td>\n",
       "      <td>0.0</td>\n",
       "      <td>True</td>\n",
       "      <td>6.240276</td>\n",
       "      <td>5.153292</td>\n",
       "      <td>10.401319</td>\n",
       "      <td>2.197225</td>\n",
       "      <td>692</td>\n",
       "      <td>2.103216</td>\n",
       "      <td>0.0</td>\n",
       "      <td>0.0</td>\n",
       "    </tr>\n",
       "  </tbody>\n",
       "</table>\n",
       "<p>5 rows × 23 columns</p>\n",
       "</div>"
      ],
      "text/plain": [
       "   likes  reposts  views  comments  attachments  \\\n",
       "0     46       30   5841         3            9   \n",
       "1    274      561  31437         3            9   \n",
       "2    102       82  13583         3            9   \n",
       "3    348      132  26569         1            9   \n",
       "4    512      172  32902         8            9   \n",
       "\n",
       "                                                text  \\\n",
       "0  «Чернокнижник: Армагеддон», 1993 год. \\nРежисс...   \n",
       "1  «Губная помада», 1976 год. \\nРежиссер: Ламонт ...   \n",
       "2  «Соблазн», 2001 год. \\nРежиссер: Майкл Кристофер.   \n",
       "3  «Красота по-американски», 1999 год. \\nРежиссер...   \n",
       "4  «Дневник баскетболиста», 1995 год. \\nРежиссер:...   \n",
       "\n",
       "                      movie         director  year  \\\n",
       "0  Чернокнижник: Армагеддон    Энтони Хикокс  1993   \n",
       "1             Губная помада   Ламонт Джонсон  1976   \n",
       "2                   Соблазн  Майкл Кристофер  2001   \n",
       "3    Красота по-американски       Сэм Мендес  1999   \n",
       "4     Дневник баскетболиста    Скотт Кэлверт  1995   \n",
       "\n",
       "                                     additional_info  ...  globe_winner  \\\n",
       "0                                                NaN  ...           0.0   \n",
       "1   Марго Хемингуэй играет модель Крис, которая у...  ...           0.0   \n",
       "2                                                NaN  ...           0.0   \n",
       "3                                                NaN  ...           1.0   \n",
       "4                                                NaN  ...           0.0   \n",
       "\n",
       "   movie_flg  log_likes  log_reposts  log_views  log_comments  reactions  \\\n",
       "0       True   3.850148     3.433987   8.672828      1.386294         79   \n",
       "1       True   5.616771     6.331502  10.355773      1.386294        838   \n",
       "2       True   4.634729     4.418841   9.516648      1.386294        187   \n",
       "3       True   5.855072     4.890349  10.187538      0.693147        481   \n",
       "4       True   6.240276     5.153292  10.401319      2.197225        692   \n",
       "\n",
       "         ER  prize  other_award  \n",
       "0  1.352508    0.0          0.0  \n",
       "1  2.665649    0.0          0.0  \n",
       "2  1.376721    0.0          0.0  \n",
       "3  1.810381    2.0          1.0  \n",
       "4  2.103216    0.0          0.0  \n",
       "\n",
       "[5 rows x 23 columns]"
      ]
     },
     "execution_count": 32,
     "metadata": {},
     "output_type": "execute_result"
    }
   ],
   "source": [
    "df = pd.read_csv('movies_dataset.csv')\n",
    "df.head()"
   ]
  },
  {
   "cell_type": "markdown",
   "id": "b791b1d8",
   "metadata": {},
   "source": [
    "Начнём с построения линейной регрессии."
   ]
  },
  {
   "cell_type": "code",
   "execution_count": 33,
   "id": "6440b791",
   "metadata": {
    "scrolled": true
   },
   "outputs": [],
   "source": [
    "X = df[['attachments', 'year', 'oscar_winner', 'oscar_nominee', 'palme_winner', 'globe_winner', 'prize', 'other_award']]\n",
    "y = df['ER']\n",
    "#делим выборку на обучающую и тестовую в соотношении 80-20\n",
    "(X_train, X_test, y_train, y_test) = train_test_split(X, y, test_size = .2, random_state = 42)\n",
    "y_train = np.array(y_train).reshape(-1, 1)\n",
    "lin_model = LinearRegression()\n",
    "lin_model.fit(X_train, y_train)\n",
    "y_test_pred = lin_model.predict(X_test)\n",
    "y_train_pred = lin_model.predict(X_train)"
   ]
  },
  {
   "cell_type": "markdown",
   "id": "64528c1b",
   "metadata": {},
   "source": [
    "Посмотрим на основные метрики линейной регрессии и на коэффициенты."
   ]
  },
  {
   "cell_type": "code",
   "execution_count": 34,
   "id": "16633013",
   "metadata": {},
   "outputs": [
    {
     "data": {
      "text/plain": [
       "0.40427753032553376"
      ]
     },
     "execution_count": 34,
     "metadata": {},
     "output_type": "execute_result"
    }
   ],
   "source": [
    "mse_linear = mean_squared_error(y_true=y_test, y_pred=y_test_pred)\n",
    "mse_linear"
   ]
  },
  {
   "cell_type": "code",
   "execution_count": 60,
   "id": "70499836",
   "metadata": {},
   "outputs": [
    {
     "data": {
      "text/plain": [
       "0.49075587327075726"
      ]
     },
     "execution_count": 60,
     "metadata": {},
     "output_type": "execute_result"
    }
   ],
   "source": [
    "mae_linear = mean_absolute_error(y_true=y_test, y_pred=y_test_pred)\n",
    "mae_linear"
   ]
  },
  {
   "cell_type": "code",
   "execution_count": 61,
   "id": "25aac24f",
   "metadata": {},
   "outputs": [
    {
     "data": {
      "text/plain": [
       "0.03792896729010031"
      ]
     },
     "execution_count": 61,
     "metadata": {},
     "output_type": "execute_result"
    }
   ],
   "source": [
    "r2_linear = r2_score(y_true=y_test, y_pred=y_test_pred)\n",
    "r2_linear"
   ]
  },
  {
   "cell_type": "markdown",
   "id": "e8890dae",
   "metadata": {},
   "source": [
    "Как мы видим, несмотря на низкие значения MSE и MAE, модель очень неточно предсказывает значение ER. Это связано с тем, что ER сама по себе метрика с маленьким значением (имеет значение от 0.5 до 4), поэтому отклонения от нее тоже небольшие, MSE получился даже меньше MAE, так как большинство значений лежат в диапозоне 0.5-1, соответственно, от возведения в квадрат ошибка только уменьшается. Тем не менее, эта модель плохо подходит для прогнозирования."
   ]
  },
  {
   "cell_type": "code",
   "execution_count": 62,
   "id": "97148235",
   "metadata": {},
   "outputs": [
    {
     "data": {
      "text/plain": [
       "array([[-0.01268605,  0.00868737, -0.00340978, -0.08042231, -0.22133332,\n",
       "         0.26005043,  0.03530733,  0.03871711]])"
      ]
     },
     "execution_count": 62,
     "metadata": {},
     "output_type": "execute_result"
    }
   ],
   "source": [
    "lin_model.coef_"
   ]
  },
  {
   "cell_type": "markdown",
   "id": "c30b076e",
   "metadata": {},
   "source": [
    "Коэффициенты также получились очень маленькими (можем связать это с маленьким значением самого коэффициента). Из интересного можно отметить, что самыми большими по модулю оказались коэффициенты перед palme_winner и globe_winner. Если globe_winner идет с плюсом, что говорит нам о возможной каузации (что наличие у фильма \"Золотого Глобуса\" влияет на ER положительно), то вот \"Пальмовая ветвь\", наоборот, даже уменьшает ER."
   ]
  },
  {
   "cell_type": "markdown",
   "id": "64900c6c",
   "metadata": {},
   "source": [
    "Для того, чтобы более точно судить о причинно-следственных связях, построим также Лассо-модель и посмотрим, улучшит ли она наш прогноз."
   ]
  },
  {
   "cell_type": "code",
   "execution_count": 63,
   "id": "87c5beb1",
   "metadata": {},
   "outputs": [
    {
     "data": {
      "text/plain": [
       "0.006169241074241648"
      ]
     },
     "execution_count": 63,
     "metadata": {},
     "output_type": "execute_result"
    }
   ],
   "source": [
    "lasso_cv = LassoCV(cv=5)\n",
    "lasso_cv.fit(X_train, y_train)\n",
    "alpha = lasso_cv.alpha_\n",
    "alpha"
   ]
  },
  {
   "cell_type": "code",
   "execution_count": 64,
   "id": "962ab5a1",
   "metadata": {},
   "outputs": [],
   "source": [
    "lasso_model = Lasso(alpha)\n",
    "lasso_model.fit(X_train, y_train)\n",
    "y_test_pred_lasso = lasso_model.predict(X_test)"
   ]
  },
  {
   "cell_type": "code",
   "execution_count": 65,
   "id": "cc6c605d",
   "metadata": {},
   "outputs": [
    {
     "data": {
      "text/plain": [
       "0.026045543594203635"
      ]
     },
     "execution_count": 65,
     "metadata": {},
     "output_type": "execute_result"
    }
   ],
   "source": [
    "r2_lasso = r2_score(y_true=y_test, y_pred=y_test_pred_lasso)\n",
    "r2_lasso"
   ]
  },
  {
   "cell_type": "markdown",
   "id": "138ec002",
   "metadata": {},
   "source": [
    "К сожалению, Лассо-модель не улучшила наши прогнозы по сравнению с линейной регрессией. Посмотрим, что случилось с коэффициентами."
   ]
  },
  {
   "cell_type": "code",
   "execution_count": 66,
   "id": "28ec3d85",
   "metadata": {},
   "outputs": [
    {
     "data": {
      "text/plain": [
       "array([-0.        ,  0.63680436,  0.        , -0.        , -0.        ,\n",
       "        0.        ,  0.        ,  0.        ])"
      ]
     },
     "execution_count": 66,
     "metadata": {},
     "output_type": "execute_result"
    }
   ],
   "source": [
    "lasso_model.coef_"
   ]
  },
  {
   "cell_type": "markdown",
   "id": "7e5f406d",
   "metadata": {},
   "source": [
    "Ухудшение прогноза связано с обнулением практически всех коэффициентов. Можно сказать, что с точки зрения Лассо-регрессии наиболее значимым оказался год выпуска, перед остальными переменными коэффициенты обнулились. Этот результат радует, так как именно с годом выпуска мы предполагали наличие связи у целевой переменной."
   ]
  },
  {
   "cell_type": "markdown",
   "id": "d9809856",
   "metadata": {},
   "source": [
    "Так как качество прогнозирования достаточно низкое, мы предполагаем, что линейная форма модели не отражает реальные данные. Проведем тест Рамсея, чтобы проверить эту гипотезу. Создадим новый датасет, в который добавим корни, квадраты и кубы независимых переменных (корень нужен, так как корреляционное облако таргета и переменной year похоже на квадратный корень)."
   ]
  },
  {
   "cell_type": "code",
   "execution_count": 67,
   "id": "e6ee48f7",
   "metadata": {
    "scrolled": false
   },
   "outputs": [
    {
     "data": {
      "text/html": [
       "<div>\n",
       "<style scoped>\n",
       "    .dataframe tbody tr th:only-of-type {\n",
       "        vertical-align: middle;\n",
       "    }\n",
       "\n",
       "    .dataframe tbody tr th {\n",
       "        vertical-align: top;\n",
       "    }\n",
       "\n",
       "    .dataframe thead th {\n",
       "        text-align: right;\n",
       "    }\n",
       "</style>\n",
       "<table border=\"1\" class=\"dataframe\">\n",
       "  <thead>\n",
       "    <tr style=\"text-align: right;\">\n",
       "      <th></th>\n",
       "      <th>ER</th>\n",
       "      <th>attachments</th>\n",
       "      <th>year</th>\n",
       "      <th>oscar_winner</th>\n",
       "      <th>oscar_nominee</th>\n",
       "      <th>palme_winner</th>\n",
       "      <th>globe_winner</th>\n",
       "      <th>prize</th>\n",
       "      <th>other_award</th>\n",
       "      <th>attachments_sqrt</th>\n",
       "      <th>...</th>\n",
       "      <th>palme_winner_cube</th>\n",
       "      <th>globe_winner_sqrt</th>\n",
       "      <th>globe_winner_sqrd</th>\n",
       "      <th>globe_winner_cube</th>\n",
       "      <th>prize_sqrt</th>\n",
       "      <th>prize_sqrd</th>\n",
       "      <th>prize_cube</th>\n",
       "      <th>other_award_sqrt</th>\n",
       "      <th>other_award_sqrd</th>\n",
       "      <th>other_award_cube</th>\n",
       "    </tr>\n",
       "  </thead>\n",
       "  <tbody>\n",
       "    <tr>\n",
       "      <th>0</th>\n",
       "      <td>1.352508</td>\n",
       "      <td>9</td>\n",
       "      <td>1993</td>\n",
       "      <td>0.0</td>\n",
       "      <td>0.0</td>\n",
       "      <td>0.0</td>\n",
       "      <td>0.0</td>\n",
       "      <td>0.0</td>\n",
       "      <td>0.0</td>\n",
       "      <td>3.0</td>\n",
       "      <td>...</td>\n",
       "      <td>0.0</td>\n",
       "      <td>0.0</td>\n",
       "      <td>0.0</td>\n",
       "      <td>0.0</td>\n",
       "      <td>0.000000</td>\n",
       "      <td>0.0</td>\n",
       "      <td>0.0</td>\n",
       "      <td>0.0</td>\n",
       "      <td>0.0</td>\n",
       "      <td>0.0</td>\n",
       "    </tr>\n",
       "    <tr>\n",
       "      <th>1</th>\n",
       "      <td>2.665649</td>\n",
       "      <td>9</td>\n",
       "      <td>1976</td>\n",
       "      <td>0.0</td>\n",
       "      <td>0.0</td>\n",
       "      <td>0.0</td>\n",
       "      <td>0.0</td>\n",
       "      <td>0.0</td>\n",
       "      <td>0.0</td>\n",
       "      <td>3.0</td>\n",
       "      <td>...</td>\n",
       "      <td>0.0</td>\n",
       "      <td>0.0</td>\n",
       "      <td>0.0</td>\n",
       "      <td>0.0</td>\n",
       "      <td>0.000000</td>\n",
       "      <td>0.0</td>\n",
       "      <td>0.0</td>\n",
       "      <td>0.0</td>\n",
       "      <td>0.0</td>\n",
       "      <td>0.0</td>\n",
       "    </tr>\n",
       "    <tr>\n",
       "      <th>2</th>\n",
       "      <td>1.376721</td>\n",
       "      <td>9</td>\n",
       "      <td>2001</td>\n",
       "      <td>0.0</td>\n",
       "      <td>0.0</td>\n",
       "      <td>0.0</td>\n",
       "      <td>0.0</td>\n",
       "      <td>0.0</td>\n",
       "      <td>0.0</td>\n",
       "      <td>3.0</td>\n",
       "      <td>...</td>\n",
       "      <td>0.0</td>\n",
       "      <td>0.0</td>\n",
       "      <td>0.0</td>\n",
       "      <td>0.0</td>\n",
       "      <td>0.000000</td>\n",
       "      <td>0.0</td>\n",
       "      <td>0.0</td>\n",
       "      <td>0.0</td>\n",
       "      <td>0.0</td>\n",
       "      <td>0.0</td>\n",
       "    </tr>\n",
       "    <tr>\n",
       "      <th>3</th>\n",
       "      <td>1.810381</td>\n",
       "      <td>9</td>\n",
       "      <td>1999</td>\n",
       "      <td>1.0</td>\n",
       "      <td>1.0</td>\n",
       "      <td>0.0</td>\n",
       "      <td>1.0</td>\n",
       "      <td>2.0</td>\n",
       "      <td>1.0</td>\n",
       "      <td>3.0</td>\n",
       "      <td>...</td>\n",
       "      <td>0.0</td>\n",
       "      <td>1.0</td>\n",
       "      <td>1.0</td>\n",
       "      <td>1.0</td>\n",
       "      <td>1.414214</td>\n",
       "      <td>4.0</td>\n",
       "      <td>8.0</td>\n",
       "      <td>1.0</td>\n",
       "      <td>1.0</td>\n",
       "      <td>1.0</td>\n",
       "    </tr>\n",
       "    <tr>\n",
       "      <th>4</th>\n",
       "      <td>2.103216</td>\n",
       "      <td>9</td>\n",
       "      <td>1995</td>\n",
       "      <td>0.0</td>\n",
       "      <td>0.0</td>\n",
       "      <td>0.0</td>\n",
       "      <td>0.0</td>\n",
       "      <td>0.0</td>\n",
       "      <td>0.0</td>\n",
       "      <td>3.0</td>\n",
       "      <td>...</td>\n",
       "      <td>0.0</td>\n",
       "      <td>0.0</td>\n",
       "      <td>0.0</td>\n",
       "      <td>0.0</td>\n",
       "      <td>0.000000</td>\n",
       "      <td>0.0</td>\n",
       "      <td>0.0</td>\n",
       "      <td>0.0</td>\n",
       "      <td>0.0</td>\n",
       "      <td>0.0</td>\n",
       "    </tr>\n",
       "  </tbody>\n",
       "</table>\n",
       "<p>5 rows × 33 columns</p>\n",
       "</div>"
      ],
      "text/plain": [
       "         ER  attachments  year  oscar_winner  oscar_nominee  palme_winner  \\\n",
       "0  1.352508            9  1993           0.0            0.0           0.0   \n",
       "1  2.665649            9  1976           0.0            0.0           0.0   \n",
       "2  1.376721            9  2001           0.0            0.0           0.0   \n",
       "3  1.810381            9  1999           1.0            1.0           0.0   \n",
       "4  2.103216            9  1995           0.0            0.0           0.0   \n",
       "\n",
       "   globe_winner  prize  other_award  attachments_sqrt  ...  palme_winner_cube  \\\n",
       "0           0.0    0.0          0.0               3.0  ...                0.0   \n",
       "1           0.0    0.0          0.0               3.0  ...                0.0   \n",
       "2           0.0    0.0          0.0               3.0  ...                0.0   \n",
       "3           1.0    2.0          1.0               3.0  ...                0.0   \n",
       "4           0.0    0.0          0.0               3.0  ...                0.0   \n",
       "\n",
       "   globe_winner_sqrt  globe_winner_sqrd  globe_winner_cube  prize_sqrt  \\\n",
       "0                0.0                0.0                0.0    0.000000   \n",
       "1                0.0                0.0                0.0    0.000000   \n",
       "2                0.0                0.0                0.0    0.000000   \n",
       "3                1.0                1.0                1.0    1.414214   \n",
       "4                0.0                0.0                0.0    0.000000   \n",
       "\n",
       "   prize_sqrd  prize_cube  other_award_sqrt  other_award_sqrd  \\\n",
       "0         0.0         0.0               0.0               0.0   \n",
       "1         0.0         0.0               0.0               0.0   \n",
       "2         0.0         0.0               0.0               0.0   \n",
       "3         4.0         8.0               1.0               1.0   \n",
       "4         0.0         0.0               0.0               0.0   \n",
       "\n",
       "   other_award_cube  \n",
       "0               0.0  \n",
       "1               0.0  \n",
       "2               0.0  \n",
       "3               1.0  \n",
       "4               0.0  \n",
       "\n",
       "[5 rows x 33 columns]"
      ]
     },
     "execution_count": 67,
     "metadata": {},
     "output_type": "execute_result"
    }
   ],
   "source": [
    "df_ramsey = df[['ER', 'attachments', 'year', 'oscar_winner', 'oscar_nominee', 'palme_winner', 'globe_winner', 'prize', 'other_award']]\n",
    "for i in ['attachments', 'year', 'oscar_winner', 'oscar_nominee', 'palme_winner', 'globe_winner', 'prize', 'other_award']:\n",
    "    df_ramsey[f'{i}_sqrt'] = np.sqrt(df_ramsey[i])\n",
    "    df_ramsey[f'{i}_sqrd'] = df_ramsey[i]**2\n",
    "    df_ramsey[f'{i}_cube'] = df_ramsey[i]**3\n",
    "df_ramsey.head()"
   ]
  },
  {
   "cell_type": "markdown",
   "id": "9207360a",
   "metadata": {},
   "source": [
    "Теперь построим линейную модель с новыми признаками."
   ]
  },
  {
   "cell_type": "code",
   "execution_count": 68,
   "id": "68365422",
   "metadata": {},
   "outputs": [],
   "source": [
    "#создаем список со всеми переменными, кроме таргета\n",
    "columns = df_ramsey.columns.tolist() \n",
    "columns.remove('ER')"
   ]
  },
  {
   "cell_type": "code",
   "execution_count": 69,
   "id": "817a1fae",
   "metadata": {},
   "outputs": [],
   "source": [
    "X = df_ramsey[columns]\n",
    "y = df_ramsey['ER']\n",
    "(X_train, X_test, y_train, y_test) = train_test_split(X, y, test_size = .2, random_state = 42)\n",
    "y_train = np.array(y_train).reshape(-1, 1)\n",
    "lin_model_extended = LinearRegression()\n",
    "lin_model_extended.fit(X_train, y_train)\n",
    "y_test_pred_extended = lin_model_extended.predict(X_test)\n",
    "y_train_pred_extended = lin_model_extended.predict(X_train)"
   ]
  },
  {
   "cell_type": "code",
   "execution_count": 70,
   "id": "f67b6c6f",
   "metadata": {},
   "outputs": [
    {
     "data": {
      "text/plain": [
       "0.3586837215130129"
      ]
     },
     "execution_count": 70,
     "metadata": {},
     "output_type": "execute_result"
    }
   ],
   "source": [
    "mse_linear_extended = mean_squared_error(y_true=y_test, y_pred=y_test_pred_extended)\n",
    "mse_linear_extended"
   ]
  },
  {
   "cell_type": "code",
   "execution_count": 71,
   "id": "a090da77",
   "metadata": {},
   "outputs": [
    {
     "data": {
      "text/plain": [
       "0.146429884207543"
      ]
     },
     "execution_count": 71,
     "metadata": {},
     "output_type": "execute_result"
    }
   ],
   "source": [
    "r2_linear_extended = r2_score(y_true=y_test, y_pred=y_test_pred_extended)\n",
    "r2_linear_extended"
   ]
  },
  {
   "cell_type": "markdown",
   "id": "4eb87738",
   "metadata": {},
   "source": [
    "Даже без проведения дополнительного тестирования видно, что качество предсказания повысилось - MSE уменьшилось, а $R^2$ вырос, что говорит о том, что модель описывает большее количество данных."
   ]
  },
  {
   "cell_type": "code",
   "execution_count": 72,
   "id": "b486cf9c",
   "metadata": {
    "scrolled": true
   },
   "outputs": [],
   "source": [
    "coef = (lin_model_extended.coef_).tolist()"
   ]
  },
  {
   "cell_type": "code",
   "execution_count": 73,
   "id": "3dddf1b9",
   "metadata": {
    "scrolled": false
   },
   "outputs": [
    {
     "name": "stdout",
     "output_type": "stream",
     "text": [
      "Переменная attachments = -14.708751940289567\n",
      "Переменная year = -8427.695151301123\n",
      "Переменная oscar_winner = 9.49710580089299\n",
      "Переменная oscar_nominee = 0.027315276701763973\n",
      "Переменная palme_winner = 0.24355708836029782\n",
      "Переменная globe_winner = 0.3463434611935889\n",
      "Переменная prize = -1.3567424400709507\n",
      "Переменная other_award = 0.6133214191009134\n",
      "Переменная attachments_sqrt = 23.473561087506702\n",
      "Переменная attachments_sqrd = 1.5194567796448777\n",
      "Переменная attachments_cube = -0.07233835162324552\n",
      "Переменная year_sqrt = 398112.9139379447\n",
      "Переменная year_sqrd = 1.4322612371410632\n",
      "Переменная year_cube = -0.000146031523253221\n",
      "Переменная oscar_winner_sqrt = -2.0078593091602963\n",
      "Переменная oscar_winner_sqrd = -2.0078593091602963\n",
      "Переменная oscar_winner_cube = -2.0078593091602963\n",
      "Переменная oscar_nominee_sqrt = -0.0302136698994718\n",
      "Переменная oscar_nominee_sqrd = -0.0302136698994718\n",
      "Переменная oscar_nominee_cube = -0.0302136698994718\n",
      "Переменная palme_winner_sqrt = 0.2470349120808131\n",
      "Переменная palme_winner_sqrd = 0.2470349120808131\n",
      "Переменная palme_winner_cube = 0.2470349120808131\n",
      "Переменная globe_winner_sqrt = 0.38027173916606194\n",
      "Переменная globe_winner_sqrd = 0.38027173916606194\n",
      "Переменная globe_winner_cube = 0.38027173916606194\n",
      "Переменная prize_sqrt = -1.5362297947464503\n",
      "Переменная prize_sqrd = -0.8696492012099892\n",
      "Переменная prize_cube = 0.17035621180734517\n",
      "Переменная other_award_sqrt = 0.6178885844114073\n",
      "Переменная other_award_sqrd = 0.6175045587967156\n",
      "Переменная other_award_cube = 0.6186290438676612\n"
     ]
    }
   ],
   "source": [
    "for i in range(len(columns)):\n",
    "    print (f'Переменная {columns[i]} = {coef[0][i]}')"
   ]
  },
  {
   "cell_type": "markdown",
   "id": "505e8ea6",
   "metadata": {},
   "source": [
    "Посмотрим, какие из 4 коэффициентов (обычный, корень, квадрат, куб) самые большие по модулю для каждой переменной. Attachment - sqrt, year - sqrt, oscar_winner - обычный показатель, oscar_nominee - sqrt, sqrd и cube имеют одинаковые значения, возьмем sqrt. Это верно и для palme_winner, и для globe_winner, возьмем в обоих случаях значение sqrt. Для переменной prize возьмем sqrt (самое большое по модулю), для other_award - cube. Построим линейную модель с использованием только этих переменных и проверим, повысится ли ее точность."
   ]
  },
  {
   "cell_type": "code",
   "execution_count": 74,
   "id": "563f4b0b",
   "metadata": {},
   "outputs": [],
   "source": [
    "X = df_ramsey[['attachments_sqrt', 'year_sqrt', 'oscar_winner', 'oscar_nominee_sqrt', 'palme_winner_sqrt', 'globe_winner_sqrt', 'prize_sqrt', 'other_award_cube']]\n",
    "y = df_ramsey['ER']\n",
    "(X_train, X_test, y_train, y_test) = train_test_split(X, y, test_size = .2, random_state = 42)\n",
    "y_train = np.array(y_train).reshape(-1, 1)\n",
    "lin_model_optimal = LinearRegression()\n",
    "lin_model_optimal.fit(X_train, y_train)\n",
    "y_test_pred_optimal = lin_model_optimal.predict(X_test)\n",
    "y_train_pred_optimal = lin_model_optimal.predict(X_train)"
   ]
  },
  {
   "cell_type": "code",
   "execution_count": 78,
   "id": "290c0b83",
   "metadata": {},
   "outputs": [
    {
     "data": {
      "text/plain": [
       "0.4015398691283726"
      ]
     },
     "execution_count": 78,
     "metadata": {},
     "output_type": "execute_result"
    }
   ],
   "source": [
    "mse_linear_optimal = mean_squared_error(y_true=y_test, y_pred=y_test_pred_optimal)\n",
    "mse_linear_optimal"
   ]
  },
  {
   "cell_type": "code",
   "execution_count": 79,
   "id": "927e0886",
   "metadata": {},
   "outputs": [
    {
     "data": {
      "text/plain": [
       "0.04444385950546004"
      ]
     },
     "execution_count": 79,
     "metadata": {},
     "output_type": "execute_result"
    }
   ],
   "source": [
    "r2_linear_optimal = r2_score(y_true=y_test, y_pred=y_test_pred_optimal)\n",
    "r2_linear_optimal"
   ]
  },
  {
   "cell_type": "markdown",
   "id": "b563b89e",
   "metadata": {},
   "source": [
    "К сожалению, попытка подобрать коэффициенты не оказалась успешной, точность модели снизилась (но она немного выше, чем была изначально). Однако мы точно убедились, что линейная модель не сильно подходит для предсказания и необходимо искать более сложные зависимости между данными."
   ]
  },
  {
   "cell_type": "code",
   "execution_count": 80,
   "id": "bb24788b",
   "metadata": {},
   "outputs": [
    {
     "data": {
      "text/plain": [
       "False"
      ]
     },
     "execution_count": 80,
     "metadata": {},
     "output_type": "execute_result"
    }
   ],
   "source": [
    "#еще раз построим линейную регрессию с помощью другой библиотеки для проверки данных на постоянство дисперсии остатков\n",
    "X = df_ramsey[columns]\n",
    "y = df_ramsey['ER']\n",
    "X = sm.add_constant(X)\n",
    "linear_model_2 = sm.OLS(y, X).fit()\n",
    "test_result = linear_rainbow(linear_model_2)\n",
    "test_result[1]>0.05"
   ]
  },
  {
   "cell_type": "markdown",
   "id": "21b34906",
   "metadata": {},
   "source": [
    "Гипотеза о постоянстве остатков дисперсий отвергается на уровне значимости 5%. Важно отметить, что это не говорит о 100% нелинейной зависимости, так как этот тест чувствителен к выбросам и гомоскедатичность может вызываться не только линейностью данных "
   ]
  }
 ],
 "metadata": {
  "kernelspec": {
   "display_name": "Python 3 (ipykernel)",
   "language": "python",
   "name": "python3"
  },
  "language_info": {
   "codemirror_mode": {
    "name": "ipython",
    "version": 3
   },
   "file_extension": ".py",
   "mimetype": "text/x-python",
   "name": "python",
   "nbconvert_exporter": "python",
   "pygments_lexer": "ipython3",
   "version": "3.10.14"
  }
 },
 "nbformat": 4,
 "nbformat_minor": 5
}
