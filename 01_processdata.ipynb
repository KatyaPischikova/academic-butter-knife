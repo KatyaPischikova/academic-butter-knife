{
 "cells": [
  {
   "cell_type": "markdown",
   "metadata": {},
   "source": [
    "# **Очистка  и обработка данных**"
   ]
  },
  {
   "cell_type": "code",
   "execution_count": 51,
   "metadata": {},
   "outputs": [],
   "source": [
    "import pandas as pd"
   ]
  },
  {
   "cell_type": "markdown",
   "metadata": {},
   "source": [
    "Загрузим датасет, который мы получили после парсинга данных со стены сообщества."
   ]
  },
  {
   "cell_type": "code",
   "execution_count": 52,
   "metadata": {},
   "outputs": [
    {
     "data": {
      "text/html": [
       "<div>\n",
       "<style scoped>\n",
       "    .dataframe tbody tr th:only-of-type {\n",
       "        vertical-align: middle;\n",
       "    }\n",
       "\n",
       "    .dataframe tbody tr th {\n",
       "        vertical-align: top;\n",
       "    }\n",
       "\n",
       "    .dataframe thead th {\n",
       "        text-align: right;\n",
       "    }\n",
       "</style>\n",
       "<table border=\"1\" class=\"dataframe\">\n",
       "  <thead>\n",
       "    <tr style=\"text-align: right;\">\n",
       "      <th></th>\n",
       "      <th>Unnamed: 0</th>\n",
       "      <th>date</th>\n",
       "      <th>likes</th>\n",
       "      <th>reposts</th>\n",
       "      <th>views</th>\n",
       "      <th>comments</th>\n",
       "      <th>attachments</th>\n",
       "      <th>text</th>\n",
       "    </tr>\n",
       "  </thead>\n",
       "  <tbody>\n",
       "    <tr>\n",
       "      <th>0</th>\n",
       "      <td>31701</td>\n",
       "      <td>1681698600</td>\n",
       "      <td>786</td>\n",
       "      <td>401</td>\n",
       "      <td>112018</td>\n",
       "      <td>18</td>\n",
       "      <td>9</td>\n",
       "      <td>🖤 Изабель Аджани в фильме «Смертельная поездка...</td>\n",
       "    </tr>\n",
       "    <tr>\n",
       "      <th>1</th>\n",
       "      <td>51009</td>\n",
       "      <td>1714739400</td>\n",
       "      <td>46</td>\n",
       "      <td>30</td>\n",
       "      <td>5841</td>\n",
       "      <td>3</td>\n",
       "      <td>9</td>\n",
       "      <td>«Чернокнижник: Армагеддон», 1993 год. \\nРежисс...</td>\n",
       "    </tr>\n",
       "    <tr>\n",
       "      <th>2</th>\n",
       "      <td>50998</td>\n",
       "      <td>1714725000</td>\n",
       "      <td>274</td>\n",
       "      <td>561</td>\n",
       "      <td>31437</td>\n",
       "      <td>3</td>\n",
       "      <td>9</td>\n",
       "      <td>«Губная помада», 1976 год. \\nРежиссер: Ламонт ...</td>\n",
       "    </tr>\n",
       "    <tr>\n",
       "      <th>3</th>\n",
       "      <td>50989</td>\n",
       "      <td>1714714200</td>\n",
       "      <td>114</td>\n",
       "      <td>51</td>\n",
       "      <td>13382</td>\n",
       "      <td>1</td>\n",
       "      <td>9</td>\n",
       "      <td>В главной роли — Роми Шнайдер 📽</td>\n",
       "    </tr>\n",
       "    <tr>\n",
       "      <th>4</th>\n",
       "      <td>50983</td>\n",
       "      <td>1714703400</td>\n",
       "      <td>154</td>\n",
       "      <td>23</td>\n",
       "      <td>13978</td>\n",
       "      <td>1</td>\n",
       "      <td>6</td>\n",
       "      <td>🖤 Маргарет Куолли в объективе Тома Шумахера 🖤</td>\n",
       "    </tr>\n",
       "  </tbody>\n",
       "</table>\n",
       "</div>"
      ],
      "text/plain": [
       "   Unnamed: 0        date  likes  reposts   views  comments  attachments  \\\n",
       "0       31701  1681698600    786      401  112018        18            9   \n",
       "1       51009  1714739400     46       30    5841         3            9   \n",
       "2       50998  1714725000    274      561   31437         3            9   \n",
       "3       50989  1714714200    114       51   13382         1            9   \n",
       "4       50983  1714703400    154       23   13978         1            6   \n",
       "\n",
       "                                                text  \n",
       "0  🖤 Изабель Аджани в фильме «Смертельная поездка...  \n",
       "1  «Чернокнижник: Армагеддон», 1993 год. \\nРежисс...  \n",
       "2  «Губная помада», 1976 год. \\nРежиссер: Ламонт ...  \n",
       "3                    В главной роли — Роми Шнайдер 📽  \n",
       "4      🖤 Маргарет Куолли в объективе Тома Шумахера 🖤  "
      ]
     },
     "execution_count": 52,
     "metadata": {},
     "output_type": "execute_result"
    }
   ],
   "source": [
    "df = pd.read_csv('project_dataset.csv')\n",
    "df.head()"
   ]
  },
  {
   "cell_type": "markdown",
   "metadata": {},
   "source": [
    "Опишем полученные данные в таблице по столбцам:\n",
    "\n",
    "*   `unnamed: 0` - id поста\n",
    "*   `date` - дата поста\n",
    "*   `likes` - количество лайков\n",
    "*   `reposts` - количество репостов\n",
    "*   `views` - количество просмотров\n",
    "*   `comments` - количество комментариев\n",
    "*   `attachments` - количество вложений\n",
    "*   `text` - текст поста\n",
    "\n",
    "\n",
    "Дальше преобразуем столбец text в несколько разных. Посты в паблике делятся на два типа: те, в которых есть информация о фильме и режиссере, а также те, в которых есть просто фотографии актеров. Первый тип можно дополнительно обработать, вычленив название фильма, имя режиссера и год производства фильма благодаря достаточно строгому naming convention у авторов паблика. С помощью регулярных выражений выделим отдельные столбцы с названием фильмов, именами режиссеров и годами производства.\n",
    "Иногда после этой информации еще есть дополнительное описание сюжета фильма, который мы вынесли в столбец additional info также для постов, в которых нет строгой информации о фильмах и режиссерах."
   ]
  },
  {
   "cell_type": "code",
   "execution_count": 53,
   "metadata": {},
   "outputs": [],
   "source": [
    "df['movie'] = df['text'].str.extract(r'^«(.+?)»')\n",
    "df['director'] = df['text'].str.extract(r'Режисс[ёе]р(?:ы)?: (.+?)(?:\\.|$)')\n",
    "df['director'] = df['director'].str.replace(r',', '|').str.split('|').apply(lambda x: ', '.join([i.strip() for i in x]) if isinstance(x, list) else x)\n",
    "df['year'] = df['text'].str.extract(r'(\\d{4})')"
   ]
  },
  {
   "cell_type": "code",
   "execution_count": 54,
   "metadata": {},
   "outputs": [],
   "source": [
    "df['additional_info'] = df['text'].str.replace(r'^«(.+?)»|Режисс[ёе]р(?:ы)?: (.+?)\\.|\\d{4}|год', '', regex=True).str.strip()\n",
    "df['additional_info'] = df['additional_info'].str.replace(r'^\\s*,\\s*', '', regex=True)\n",
    "df['additional_info'] = df['additional_info'].str.replace(r'\\n', '', regex=True)\n",
    "df['additional_info'] = df['additional_info'].str.replace(r'^\\.', '', regex=True)"
   ]
  },
  {
   "cell_type": "markdown",
   "metadata": {},
   "source": [
    "На всякий случай преобразуем формат столбца с датами."
   ]
  },
  {
   "cell_type": "code",
   "execution_count": 55,
   "metadata": {},
   "outputs": [
    {
     "data": {
      "text/html": [
       "<div>\n",
       "<style scoped>\n",
       "    .dataframe tbody tr th:only-of-type {\n",
       "        vertical-align: middle;\n",
       "    }\n",
       "\n",
       "    .dataframe tbody tr th {\n",
       "        vertical-align: top;\n",
       "    }\n",
       "\n",
       "    .dataframe thead th {\n",
       "        text-align: right;\n",
       "    }\n",
       "</style>\n",
       "<table border=\"1\" class=\"dataframe\">\n",
       "  <thead>\n",
       "    <tr style=\"text-align: right;\">\n",
       "      <th></th>\n",
       "      <th>Unnamed: 0</th>\n",
       "      <th>date</th>\n",
       "      <th>likes</th>\n",
       "      <th>reposts</th>\n",
       "      <th>views</th>\n",
       "      <th>comments</th>\n",
       "      <th>attachments</th>\n",
       "      <th>text</th>\n",
       "      <th>movie</th>\n",
       "      <th>director</th>\n",
       "      <th>year</th>\n",
       "      <th>additional_info</th>\n",
       "    </tr>\n",
       "  </thead>\n",
       "  <tbody>\n",
       "    <tr>\n",
       "      <th>0</th>\n",
       "      <td>31701</td>\n",
       "      <td>1681698600</td>\n",
       "      <td>786</td>\n",
       "      <td>401</td>\n",
       "      <td>112018</td>\n",
       "      <td>18</td>\n",
       "      <td>9</td>\n",
       "      <td>🖤 Изабель Аджани в фильме «Смертельная поездка...</td>\n",
       "      <td>NaN</td>\n",
       "      <td>NaN</td>\n",
       "      <td>1983</td>\n",
       "      <td>🖤 Изабель Аджани в фильме «Смертельная поездка...</td>\n",
       "    </tr>\n",
       "    <tr>\n",
       "      <th>1</th>\n",
       "      <td>51009</td>\n",
       "      <td>1714739400</td>\n",
       "      <td>46</td>\n",
       "      <td>30</td>\n",
       "      <td>5841</td>\n",
       "      <td>3</td>\n",
       "      <td>9</td>\n",
       "      <td>«Чернокнижник: Армагеддон», 1993 год. \\nРежисс...</td>\n",
       "      <td>Чернокнижник: Армагеддон</td>\n",
       "      <td>Энтони Хикокс</td>\n",
       "      <td>1993</td>\n",
       "      <td></td>\n",
       "    </tr>\n",
       "    <tr>\n",
       "      <th>2</th>\n",
       "      <td>50998</td>\n",
       "      <td>1714725000</td>\n",
       "      <td>274</td>\n",
       "      <td>561</td>\n",
       "      <td>31437</td>\n",
       "      <td>3</td>\n",
       "      <td>9</td>\n",
       "      <td>«Губная помада», 1976 год. \\nРежиссер: Ламонт ...</td>\n",
       "      <td>Губная помада</td>\n",
       "      <td>Ламонт Джонсон</td>\n",
       "      <td>1976</td>\n",
       "      <td>Марго Хемингуэй играет модель Крис, которая у...</td>\n",
       "    </tr>\n",
       "    <tr>\n",
       "      <th>3</th>\n",
       "      <td>50989</td>\n",
       "      <td>1714714200</td>\n",
       "      <td>114</td>\n",
       "      <td>51</td>\n",
       "      <td>13382</td>\n",
       "      <td>1</td>\n",
       "      <td>9</td>\n",
       "      <td>В главной роли — Роми Шнайдер 📽</td>\n",
       "      <td>NaN</td>\n",
       "      <td>NaN</td>\n",
       "      <td>0</td>\n",
       "      <td>В главной роли — Роми Шнайдер 📽</td>\n",
       "    </tr>\n",
       "    <tr>\n",
       "      <th>4</th>\n",
       "      <td>50983</td>\n",
       "      <td>1714703400</td>\n",
       "      <td>154</td>\n",
       "      <td>23</td>\n",
       "      <td>13978</td>\n",
       "      <td>1</td>\n",
       "      <td>6</td>\n",
       "      <td>🖤 Маргарет Куолли в объективе Тома Шумахера 🖤</td>\n",
       "      <td>NaN</td>\n",
       "      <td>NaN</td>\n",
       "      <td>0</td>\n",
       "      <td>🖤 Маргарет Куолли в объективе Тома Шумахера 🖤</td>\n",
       "    </tr>\n",
       "  </tbody>\n",
       "</table>\n",
       "</div>"
      ],
      "text/plain": [
       "   Unnamed: 0        date  likes  reposts   views  comments  attachments  \\\n",
       "0       31701  1681698600    786      401  112018        18            9   \n",
       "1       51009  1714739400     46       30    5841         3            9   \n",
       "2       50998  1714725000    274      561   31437         3            9   \n",
       "3       50989  1714714200    114       51   13382         1            9   \n",
       "4       50983  1714703400    154       23   13978         1            6   \n",
       "\n",
       "                                                text  \\\n",
       "0  🖤 Изабель Аджани в фильме «Смертельная поездка...   \n",
       "1  «Чернокнижник: Армагеддон», 1993 год. \\nРежисс...   \n",
       "2  «Губная помада», 1976 год. \\nРежиссер: Ламонт ...   \n",
       "3                    В главной роли — Роми Шнайдер 📽   \n",
       "4      🖤 Маргарет Куолли в объективе Тома Шумахера 🖤   \n",
       "\n",
       "                      movie        director  year  \\\n",
       "0                       NaN             NaN  1983   \n",
       "1  Чернокнижник: Армагеддон   Энтони Хикокс  1993   \n",
       "2             Губная помада  Ламонт Джонсон  1976   \n",
       "3                       NaN             NaN     0   \n",
       "4                       NaN             NaN     0   \n",
       "\n",
       "                                     additional_info  \n",
       "0  🖤 Изабель Аджани в фильме «Смертельная поездка...  \n",
       "1                                                     \n",
       "2   Марго Хемингуэй играет модель Крис, которая у...  \n",
       "3                    В главной роли — Роми Шнайдер 📽  \n",
       "4      🖤 Маргарет Куолли в объективе Тома Шумахера 🖤  "
      ]
     },
     "execution_count": 55,
     "metadata": {},
     "output_type": "execute_result"
    }
   ],
   "source": [
    "df['year'] = pd.to_numeric(df['year'], errors='coerce').fillna(0).astype(int)\n",
    "df.head()"
   ]
  },
  {
   "cell_type": "markdown",
   "metadata": {},
   "source": [
    "Мы также собрали датасет по трем самым престижным премиям: Oскару, Золотой пальмовой ветви и Золотому глобусу. По Oскару были доступны данные на русском, в том числе по номинантам, а по Золотой пальмовой ветви и Золотому глобусу - только по лауреатам, так что мы внесем данные по номинантам и лауреатам Оскара, лауреатам Золотой пальмовой ветви и Золотого глобуса.\n",
    "\n",
    "Начнем с данных по Оскару."
   ]
  },
  {
   "cell_type": "code",
   "execution_count": 56,
   "metadata": {},
   "outputs": [
    {
     "data": {
      "text/html": [
       "<div>\n",
       "<style scoped>\n",
       "    .dataframe tbody tr th:only-of-type {\n",
       "        vertical-align: middle;\n",
       "    }\n",
       "\n",
       "    .dataframe tbody tr th {\n",
       "        vertical-align: top;\n",
       "    }\n",
       "\n",
       "    .dataframe thead th {\n",
       "        text-align: right;\n",
       "    }\n",
       "</style>\n",
       "<table border=\"1\" class=\"dataframe\">\n",
       "  <thead>\n",
       "    <tr style=\"text-align: right;\">\n",
       "      <th></th>\n",
       "      <th>Год/Церемония</th>\n",
       "      <th>Фильм</th>\n",
       "      <th>Кинокомпания(и)</th>\n",
       "      <th>Продюсер(ы)</th>\n",
       "      <th>Победитель</th>\n",
       "    </tr>\n",
       "  </thead>\n",
       "  <tbody>\n",
       "    <tr>\n",
       "      <th>0</th>\n",
       "      <td>1929</td>\n",
       "      <td>«Крылья»</td>\n",
       "      <td>Paramount Pictures</td>\n",
       "      <td>Люсьен Хаббард</td>\n",
       "      <td>1</td>\n",
       "    </tr>\n",
       "    <tr>\n",
       "      <th>1</th>\n",
       "      <td>1929</td>\n",
       "      <td>«Рэкет»</td>\n",
       "      <td>Paramount Pictures</td>\n",
       "      <td>Говард Хьюз</td>\n",
       "      <td>0</td>\n",
       "    </tr>\n",
       "    <tr>\n",
       "      <th>2</th>\n",
       "      <td>1929</td>\n",
       "      <td>«Седьмое небо»</td>\n",
       "      <td>Fox Film Corporation</td>\n",
       "      <td>Уильям Фокс</td>\n",
       "      <td>0</td>\n",
       "    </tr>\n",
       "    <tr>\n",
       "      <th>3</th>\n",
       "      <td>1930</td>\n",
       "      <td>«Бродвейская мелодия»</td>\n",
       "      <td>Metro-Goldwyn-Mayer</td>\n",
       "      <td>Ирвинг Талберг, Лоуренс Уэйнгартен</td>\n",
       "      <td>1</td>\n",
       "    </tr>\n",
       "    <tr>\n",
       "      <th>4</th>\n",
       "      <td>1930</td>\n",
       "      <td>«Алиби»</td>\n",
       "      <td>United Artists</td>\n",
       "      <td>Роланд Уэст</td>\n",
       "      <td>0</td>\n",
       "    </tr>\n",
       "  </tbody>\n",
       "</table>\n",
       "</div>"
      ],
      "text/plain": [
       "   Год/Церемония                  Фильм       Кинокомпания(и)  \\\n",
       "0           1929               «Крылья»    Paramount Pictures   \n",
       "1           1929                «Рэкет»    Paramount Pictures   \n",
       "2           1929         «Седьмое небо»  Fox Film Corporation   \n",
       "3           1930  «Бродвейская мелодия»   Metro-Goldwyn-Mayer   \n",
       "4           1930                «Алиби»        United Artists   \n",
       "\n",
       "                          Продюсер(ы)  Победитель  \n",
       "0                      Люсьен Хаббард           1  \n",
       "1                         Говард Хьюз           0  \n",
       "2                         Уильям Фокс           0  \n",
       "3  Ирвинг Талберг, Лоуренс Уэйнгартен           1  \n",
       "4                         Роланд Уэст           0  "
      ]
     },
     "execution_count": 56,
     "metadata": {},
     "output_type": "execute_result"
    }
   ],
   "source": [
    "oscar = pd.read_excel('oscar.xlsx')\n",
    "oscar.head()"
   ]
  },
  {
   "cell_type": "markdown",
   "metadata": {},
   "source": [
    "Тут формат данных по названию фильма не совпадал с тем, что есть у нас в таблице, поэтому преобразуем названия в таблице oscar к нашему формату."
   ]
  },
  {
   "cell_type": "code",
   "execution_count": 57,
   "metadata": {},
   "outputs": [],
   "source": [
    "oscar['Фильм'] = oscar['Фильм'].str.replace('«', '').str.replace('»', '').str.strip()"
   ]
  },
  {
   "cell_type": "markdown",
   "metadata": {},
   "source": [
    "Все фильмы в датасете - номинанты. Поэтому сделаем еще один столбец-флаг того, что фильм-номинант."
   ]
  },
  {
   "cell_type": "code",
   "execution_count": 58,
   "metadata": {},
   "outputs": [],
   "source": [
    "oscar['oscar_nominee'] = 1"
   ]
  },
  {
   "cell_type": "markdown",
   "metadata": {},
   "source": [
    "Тут мы убираем ненужные столбцы, которые будут затормаживать процесс склейки таблиц."
   ]
  },
  {
   "cell_type": "code",
   "execution_count": 59,
   "metadata": {},
   "outputs": [],
   "source": [
    "oscar = oscar.drop(['Кинокомпания(и)', 'Продюсер(ы)', 'Год/Церемония'], axis=1)"
   ]
  },
  {
   "cell_type": "markdown",
   "metadata": {},
   "source": [
    "Джойн таблиц слева, потому что мы не хотим потерять данные по фильмам, которые не были номинированы."
   ]
  },
  {
   "cell_type": "code",
   "execution_count": 60,
   "metadata": {},
   "outputs": [
    {
     "data": {
      "text/html": [
       "<div>\n",
       "<style scoped>\n",
       "    .dataframe tbody tr th:only-of-type {\n",
       "        vertical-align: middle;\n",
       "    }\n",
       "\n",
       "    .dataframe tbody tr th {\n",
       "        vertical-align: top;\n",
       "    }\n",
       "\n",
       "    .dataframe thead th {\n",
       "        text-align: right;\n",
       "    }\n",
       "</style>\n",
       "<table border=\"1\" class=\"dataframe\">\n",
       "  <thead>\n",
       "    <tr style=\"text-align: right;\">\n",
       "      <th></th>\n",
       "      <th>Unnamed: 0</th>\n",
       "      <th>date</th>\n",
       "      <th>likes</th>\n",
       "      <th>reposts</th>\n",
       "      <th>views</th>\n",
       "      <th>comments</th>\n",
       "      <th>attachments</th>\n",
       "      <th>text</th>\n",
       "      <th>movie</th>\n",
       "      <th>director</th>\n",
       "      <th>year</th>\n",
       "      <th>additional_info</th>\n",
       "      <th>Фильм</th>\n",
       "      <th>oscar_winner</th>\n",
       "      <th>oscar_nominee</th>\n",
       "    </tr>\n",
       "  </thead>\n",
       "  <tbody>\n",
       "    <tr>\n",
       "      <th>0</th>\n",
       "      <td>31701</td>\n",
       "      <td>1681698600</td>\n",
       "      <td>786</td>\n",
       "      <td>401</td>\n",
       "      <td>112018</td>\n",
       "      <td>18</td>\n",
       "      <td>9</td>\n",
       "      <td>🖤 Изабель Аджани в фильме «Смертельная поездка...</td>\n",
       "      <td>NaN</td>\n",
       "      <td>NaN</td>\n",
       "      <td>1983</td>\n",
       "      <td>🖤 Изабель Аджани в фильме «Смертельная поездка...</td>\n",
       "      <td>NaN</td>\n",
       "      <td>NaN</td>\n",
       "      <td>NaN</td>\n",
       "    </tr>\n",
       "    <tr>\n",
       "      <th>1</th>\n",
       "      <td>51009</td>\n",
       "      <td>1714739400</td>\n",
       "      <td>46</td>\n",
       "      <td>30</td>\n",
       "      <td>5841</td>\n",
       "      <td>3</td>\n",
       "      <td>9</td>\n",
       "      <td>«Чернокнижник: Армагеддон», 1993 год. \\nРежисс...</td>\n",
       "      <td>Чернокнижник: Армагеддон</td>\n",
       "      <td>Энтони Хикокс</td>\n",
       "      <td>1993</td>\n",
       "      <td></td>\n",
       "      <td>NaN</td>\n",
       "      <td>NaN</td>\n",
       "      <td>NaN</td>\n",
       "    </tr>\n",
       "    <tr>\n",
       "      <th>2</th>\n",
       "      <td>50998</td>\n",
       "      <td>1714725000</td>\n",
       "      <td>274</td>\n",
       "      <td>561</td>\n",
       "      <td>31437</td>\n",
       "      <td>3</td>\n",
       "      <td>9</td>\n",
       "      <td>«Губная помада», 1976 год. \\nРежиссер: Ламонт ...</td>\n",
       "      <td>Губная помада</td>\n",
       "      <td>Ламонт Джонсон</td>\n",
       "      <td>1976</td>\n",
       "      <td>Марго Хемингуэй играет модель Крис, которая у...</td>\n",
       "      <td>NaN</td>\n",
       "      <td>NaN</td>\n",
       "      <td>NaN</td>\n",
       "    </tr>\n",
       "    <tr>\n",
       "      <th>3</th>\n",
       "      <td>50989</td>\n",
       "      <td>1714714200</td>\n",
       "      <td>114</td>\n",
       "      <td>51</td>\n",
       "      <td>13382</td>\n",
       "      <td>1</td>\n",
       "      <td>9</td>\n",
       "      <td>В главной роли — Роми Шнайдер 📽</td>\n",
       "      <td>NaN</td>\n",
       "      <td>NaN</td>\n",
       "      <td>0</td>\n",
       "      <td>В главной роли — Роми Шнайдер 📽</td>\n",
       "      <td>NaN</td>\n",
       "      <td>NaN</td>\n",
       "      <td>NaN</td>\n",
       "    </tr>\n",
       "    <tr>\n",
       "      <th>4</th>\n",
       "      <td>50983</td>\n",
       "      <td>1714703400</td>\n",
       "      <td>154</td>\n",
       "      <td>23</td>\n",
       "      <td>13978</td>\n",
       "      <td>1</td>\n",
       "      <td>6</td>\n",
       "      <td>🖤 Маргарет Куолли в объективе Тома Шумахера 🖤</td>\n",
       "      <td>NaN</td>\n",
       "      <td>NaN</td>\n",
       "      <td>0</td>\n",
       "      <td>🖤 Маргарет Куолли в объективе Тома Шумахера 🖤</td>\n",
       "      <td>NaN</td>\n",
       "      <td>NaN</td>\n",
       "      <td>NaN</td>\n",
       "    </tr>\n",
       "  </tbody>\n",
       "</table>\n",
       "</div>"
      ],
      "text/plain": [
       "   Unnamed: 0        date  likes  reposts   views  comments  attachments  \\\n",
       "0       31701  1681698600    786      401  112018        18            9   \n",
       "1       51009  1714739400     46       30    5841         3            9   \n",
       "2       50998  1714725000    274      561   31437         3            9   \n",
       "3       50989  1714714200    114       51   13382         1            9   \n",
       "4       50983  1714703400    154       23   13978         1            6   \n",
       "\n",
       "                                                text  \\\n",
       "0  🖤 Изабель Аджани в фильме «Смертельная поездка...   \n",
       "1  «Чернокнижник: Армагеддон», 1993 год. \\nРежисс...   \n",
       "2  «Губная помада», 1976 год. \\nРежиссер: Ламонт ...   \n",
       "3                    В главной роли — Роми Шнайдер 📽   \n",
       "4      🖤 Маргарет Куолли в объективе Тома Шумахера 🖤   \n",
       "\n",
       "                      movie        director  year  \\\n",
       "0                       NaN             NaN  1983   \n",
       "1  Чернокнижник: Армагеддон   Энтони Хикокс  1993   \n",
       "2             Губная помада  Ламонт Джонсон  1976   \n",
       "3                       NaN             NaN     0   \n",
       "4                       NaN             NaN     0   \n",
       "\n",
       "                                     additional_info Фильм  oscar_winner  \\\n",
       "0  🖤 Изабель Аджани в фильме «Смертельная поездка...   NaN           NaN   \n",
       "1                                                      NaN           NaN   \n",
       "2   Марго Хемингуэй играет модель Крис, которая у...   NaN           NaN   \n",
       "3                    В главной роли — Роми Шнайдер 📽   NaN           NaN   \n",
       "4      🖤 Маргарет Куолли в объективе Тома Шумахера 🖤   NaN           NaN   \n",
       "\n",
       "   oscar_nominee  \n",
       "0            NaN  \n",
       "1            NaN  \n",
       "2            NaN  \n",
       "3            NaN  \n",
       "4            NaN  "
      ]
     },
     "execution_count": 60,
     "metadata": {},
     "output_type": "execute_result"
    }
   ],
   "source": [
    "df1 = pd.merge(df, oscar, left_on='movie', right_on='Фильм', how='left')\n",
    "df1 = df1.rename(columns = {'Победитель' : 'oscar_winner'})\n",
    "df1.head()"
   ]
  },
  {
   "cell_type": "markdown",
   "metadata": {},
   "source": [
    "Мы заметили, что часто строки, содержащие название фильма, который был номинирован, все равно маркируются как отсутствующие данные в столбцах про номинантов и победителей премии. Поэтому мы написали функцию, которая это будет поправлять."
   ]
  },
  {
   "cell_type": "code",
   "execution_count": 61,
   "metadata": {},
   "outputs": [],
   "source": [
    "def update_oscar_nominee(row):\n",
    "    if pd.notnull(row['movie']) and row['oscar_nominee'] != 1:\n",
    "        return 0\n",
    "    else:\n",
    "        return row['oscar_nominee']\n",
    "\n",
    "df1['oscar_nominee'] = df1.apply(update_oscar_nominee, axis=1)"
   ]
  },
  {
   "cell_type": "markdown",
   "metadata": {},
   "source": [
    "То же самое касалось и столбца победителей премии."
   ]
  },
  {
   "cell_type": "code",
   "execution_count": 62,
   "metadata": {},
   "outputs": [],
   "source": [
    "def update_oscar_winner(row):\n",
    "    if row['oscar_nominee'] == 0:\n",
    "        return 0\n",
    "    elif pd.isna(row['oscar_winner']):\n",
    "        return 0\n",
    "    else:\n",
    "        return row['oscar_winner']\n",
    "\n",
    "df1['oscar_winner'] = df1.apply(update_oscar_winner, axis = 1)"
   ]
  },
  {
   "cell_type": "markdown",
   "metadata": {},
   "source": [
    "Теперь проанализируем лауреатов премии **Золотая пальмовая ветвь**."
   ]
  },
  {
   "cell_type": "code",
   "execution_count": 63,
   "metadata": {},
   "outputs": [
    {
     "data": {
      "text/html": [
       "<div>\n",
       "<style scoped>\n",
       "    .dataframe tbody tr th:only-of-type {\n",
       "        vertical-align: middle;\n",
       "    }\n",
       "\n",
       "    .dataframe tbody tr th {\n",
       "        vertical-align: top;\n",
       "    }\n",
       "\n",
       "    .dataframe thead th {\n",
       "        text-align: right;\n",
       "    }\n",
       "</style>\n",
       "<table border=\"1\" class=\"dataframe\">\n",
       "  <thead>\n",
       "    <tr style=\"text-align: right;\">\n",
       "      <th></th>\n",
       "      <th>Год</th>\n",
       "      <th>Название фильма</th>\n",
       "      <th>Режиссер</th>\n",
       "    </tr>\n",
       "  </thead>\n",
       "  <tbody>\n",
       "    <tr>\n",
       "      <th>0</th>\n",
       "      <td>1939</td>\n",
       "      <td>Юнион Пасифик</td>\n",
       "      <td>Сесил Би Демилль</td>\n",
       "    </tr>\n",
       "    <tr>\n",
       "      <th>1</th>\n",
       "      <td>1946</td>\n",
       "      <td>Травля</td>\n",
       "      <td>Альф Шёберг</td>\n",
       "    </tr>\n",
       "    <tr>\n",
       "      <th>2</th>\n",
       "      <td>1946</td>\n",
       "      <td>Потерянный уикенд</td>\n",
       "      <td>Билли Уайлдер</td>\n",
       "    </tr>\n",
       "    <tr>\n",
       "      <th>3</th>\n",
       "      <td>1946</td>\n",
       "      <td>Красные луга</td>\n",
       "      <td>Бодиль Ипсен, Лау Лауритцен мл.</td>\n",
       "    </tr>\n",
       "    <tr>\n",
       "      <th>4</th>\n",
       "      <td>1946</td>\n",
       "      <td>Город в долине</td>\n",
       "      <td>Четан Ананд</td>\n",
       "    </tr>\n",
       "  </tbody>\n",
       "</table>\n",
       "</div>"
      ],
      "text/plain": [
       "    Год     Название фильма                         Режиссер\n",
       "0  1939      Юнион Пасифик                  Сесил Би Демилль\n",
       "1  1946              Травля                      Альф Шёберг\n",
       "2  1946  Потерянный уикенд                     Билли Уайлдер\n",
       "3  1946        Красные луга  Бодиль Ипсен, Лау Лауритцен мл.\n",
       "4  1946      Город в долине                      Четан Ананд"
      ]
     },
     "execution_count": 63,
     "metadata": {},
     "output_type": "execute_result"
    }
   ],
   "source": [
    "palme = pd.read_excel('palme.xlsx')\n",
    "palme.head()"
   ]
  },
  {
   "cell_type": "markdown",
   "metadata": {},
   "source": [
    "Снова добавим флаг того, что фильм в строке - лауреат."
   ]
  },
  {
   "cell_type": "code",
   "execution_count": 64,
   "metadata": {},
   "outputs": [],
   "source": [
    "palme['palme_winner'] = 1"
   ]
  },
  {
   "cell_type": "markdown",
   "metadata": {},
   "source": [
    "Склеим с уже имеющимся датасетом."
   ]
  },
  {
   "cell_type": "code",
   "execution_count": 65,
   "metadata": {},
   "outputs": [],
   "source": [
    "df2 = pd.merge(df1, palme, left_on='movie', right_on='Название фильма', how='left')"
   ]
  },
  {
   "cell_type": "markdown",
   "metadata": {},
   "source": [
    "Отбросим ненужные столбцы, которые дублируют информацию."
   ]
  },
  {
   "cell_type": "code",
   "execution_count": 66,
   "metadata": {},
   "outputs": [],
   "source": [
    "df2 = df2.drop(['Год', 'Название фильма', 'Режиссер'], axis = 1)"
   ]
  },
  {
   "cell_type": "markdown",
   "metadata": {},
   "source": [
    "Здесь вновь была проблема с тем, что не все фильмы маркировались верно, поэтому мы опять применили функцию для более корректной маркировки победителей и фильмов, не получивших награду."
   ]
  },
  {
   "cell_type": "code",
   "execution_count": 67,
   "metadata": {},
   "outputs": [],
   "source": [
    "def update_palme_winner(row):\n",
    "    if pd.notnull(row['movie']) and row['palme_winner'] != 1:\n",
    "        return 0\n",
    "    else:\n",
    "        return row['palme_winner']\n",
    "\n",
    "df2['palme_winner'] = df2.apply(update_palme_winner, axis=1)"
   ]
  },
  {
   "cell_type": "markdown",
   "metadata": {},
   "source": [
    "Переименовываем столбец для более корректного отображения информации о датасете."
   ]
  },
  {
   "cell_type": "code",
   "execution_count": 68,
   "metadata": {},
   "outputs": [],
   "source": [
    "df2 = df2.rename(columns = {'Unnamed: 0' : 'post_id'})"
   ]
  },
  {
   "cell_type": "markdown",
   "metadata": {},
   "source": [
    "Теперь добавим информацию о лауреатах премии **Золотой глобус**."
   ]
  },
  {
   "cell_type": "code",
   "execution_count": 69,
   "metadata": {},
   "outputs": [
    {
     "data": {
      "text/html": [
       "<div>\n",
       "<style scoped>\n",
       "    .dataframe tbody tr th:only-of-type {\n",
       "        vertical-align: middle;\n",
       "    }\n",
       "\n",
       "    .dataframe tbody tr th {\n",
       "        vertical-align: top;\n",
       "    }\n",
       "\n",
       "    .dataframe thead th {\n",
       "        text-align: right;\n",
       "    }\n",
       "</style>\n",
       "<table border=\"1\" class=\"dataframe\">\n",
       "  <thead>\n",
       "    <tr style=\"text-align: right;\">\n",
       "      <th></th>\n",
       "      <th>Год</th>\n",
       "      <th>Фильм</th>\n",
       "      <th>Режиссёр</th>\n",
       "      <th>Продюсер</th>\n",
       "      <th>Победитель</th>\n",
       "    </tr>\n",
       "  </thead>\n",
       "  <tbody>\n",
       "    <tr>\n",
       "      <th>0</th>\n",
       "      <td>1944</td>\n",
       "      <td>Песня Бернадетт</td>\n",
       "      <td>Генри Кинг</td>\n",
       "      <td>Уильям Перлберг</td>\n",
       "      <td>1</td>\n",
       "    </tr>\n",
       "    <tr>\n",
       "      <th>1</th>\n",
       "      <td>1945</td>\n",
       "      <td>Идти своим путём</td>\n",
       "      <td>Лео Маккэри</td>\n",
       "      <td>Лео Маккэри</td>\n",
       "      <td>1</td>\n",
       "    </tr>\n",
       "    <tr>\n",
       "      <th>2</th>\n",
       "      <td>1946</td>\n",
       "      <td>Потерянный уикэнд</td>\n",
       "      <td>Билли Уайлдер</td>\n",
       "      <td>Чарльз Брэкетт</td>\n",
       "      <td>1</td>\n",
       "    </tr>\n",
       "    <tr>\n",
       "      <th>3</th>\n",
       "      <td>1947</td>\n",
       "      <td>Лучшие годы нашей жизни</td>\n",
       "      <td>Уильям Уайлер</td>\n",
       "      <td>Сэмюэл Голдвин</td>\n",
       "      <td>1</td>\n",
       "    </tr>\n",
       "    <tr>\n",
       "      <th>4</th>\n",
       "      <td>1948</td>\n",
       "      <td>Джентльменское соглашение</td>\n",
       "      <td>Элиа Казан</td>\n",
       "      <td>Дэррил Занук</td>\n",
       "      <td>1</td>\n",
       "    </tr>\n",
       "  </tbody>\n",
       "</table>\n",
       "</div>"
      ],
      "text/plain": [
       "    Год                      Фильм       Режиссёр         Продюсер  Победитель\n",
       "0  1944            Песня Бернадетт     Генри Кинг  Уильям Перлберг           1\n",
       "1  1945           Идти своим путём    Лео Маккэри      Лео Маккэри           1\n",
       "2  1946          Потерянный уикэнд  Билли Уайлдер   Чарльз Брэкетт           1\n",
       "3  1947    Лучшие годы нашей жизни  Уильям Уайлер   Сэмюэл Голдвин           1\n",
       "4  1948  Джентльменское соглашение     Элиа Казан     Дэррил Занук           1"
      ]
     },
     "execution_count": 69,
     "metadata": {},
     "output_type": "execute_result"
    }
   ],
   "source": [
    "golden_globe = pd.read_excel('golden_globe.xlsx')\n",
    "golden_globe.head()"
   ]
  },
  {
   "cell_type": "markdown",
   "metadata": {},
   "source": [
    "Джойним два датасета по названию фильма и переименовываем столбец для соблюдения naming convention."
   ]
  },
  {
   "cell_type": "code",
   "execution_count": 70,
   "metadata": {},
   "outputs": [
    {
     "data": {
      "text/plain": [
       "Index(['Год', 'Фильм', 'Режиссёр', 'Продюсер', 'Победитель'], dtype='object')"
      ]
     },
     "execution_count": 70,
     "metadata": {},
     "output_type": "execute_result"
    }
   ],
   "source": [
    "df3 = pd.merge(df2, golden_globe, left_on='movie', right_on='Фильм', how='left')\n",
    "df3 = df3.rename(columns = {'Победитель' : 'globe_winner'})\n",
    "\n",
    "golden_globe.columns"
   ]
  },
  {
   "cell_type": "markdown",
   "metadata": {},
   "source": [
    "Отбрасываем ненужные столбцы, которые содержат лишнюю информацию или дублируют ее."
   ]
  },
  {
   "cell_type": "code",
   "execution_count": 71,
   "metadata": {},
   "outputs": [],
   "source": [
    "df3 = df3.drop(['Год', 'Фильм_y','Продюсер', 'Режиссёр', 'Фильм_x'], axis = 1)"
   ]
  },
  {
   "cell_type": "markdown",
   "metadata": {},
   "source": [
    "Поскольку в дальнейшем нам пригодится знание о том, какие строки содержат фильмы, то мы добавим столбец с флагом наличия фильма."
   ]
  },
  {
   "cell_type": "code",
   "execution_count": 72,
   "metadata": {},
   "outputs": [],
   "source": [
    "df3['movie_flg'] = pd.notnull(df3['movie'])"
   ]
  },
  {
   "cell_type": "markdown",
   "metadata": {},
   "source": [
    "Нам вновь потребовалось избавиться от большого количества отсутствующих данных посредством заполнения столбца победителей с помощью функции."
   ]
  },
  {
   "cell_type": "code",
   "execution_count": 73,
   "metadata": {},
   "outputs": [],
   "source": [
    "def update_globe_winner(row):\n",
    "    if pd.notnull(row['movie']) and row['globe_winner'] == 1:\n",
    "        return 1\n",
    "    elif pd.notnull(row['movie']) and row['globe_winner'] != 1:\n",
    "        return 0\n",
    "    else:\n",
    "      return row['globe_winner']\n",
    "\n",
    "df3['globe_winner'] = df3.apply(update_globe_winner, axis=1)"
   ]
  },
  {
   "cell_type": "markdown",
   "metadata": {},
   "source": [
    "Сохраним обработанные данные."
   ]
  },
  {
   "cell_type": "code",
   "execution_count": 74,
   "metadata": {},
   "outputs": [],
   "source": [
    "df3.to_csv('processed_dataset.csv', index=False)"
   ]
  }
 ],
 "metadata": {
  "kernelspec": {
   "display_name": "base",
   "language": "python",
   "name": "python3"
  },
  "language_info": {
   "codemirror_mode": {
    "name": "ipython",
    "version": 3
   },
   "file_extension": ".py",
   "mimetype": "text/x-python",
   "name": "python",
   "nbconvert_exporter": "python",
   "pygments_lexer": "ipython3",
   "version": "3.10.9"
  }
 },
 "nbformat": 4,
 "nbformat_minor": 2
}
