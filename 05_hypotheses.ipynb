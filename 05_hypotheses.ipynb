{
 "cells": [
  {
   "cell_type": "markdown",
   "metadata": {},
   "source": [
    "# **Гипотезы**"
   ]
  },
  {
   "cell_type": "code",
   "execution_count": 18,
   "metadata": {},
   "outputs": [],
   "source": [
    "import pandas as pd\n",
    "import numpy as np\n",
    "from scipy import stats\n",
    "import warnings\n",
    "warnings.filterwarnings('ignore', category=FutureWarning)"
   ]
  },
  {
   "cell_type": "markdown",
   "metadata": {},
   "source": [
    "Загрузим даннные."
   ]
  },
  {
   "cell_type": "code",
   "execution_count": 19,
   "metadata": {},
   "outputs": [],
   "source": [
    "movies = pd.read_csv('movies_dataset.csv')\n",
    "visuals = pd.read_csv('visuals_dataset.csv')"
   ]
  },
  {
   "cell_type": "markdown",
   "metadata": {},
   "source": [
    "В ходе EDA мы обнаружили ряд закономерностей, которые бы хотелось проверить на статистическую значимость и вообще на присутствие в данных."
   ]
  },
  {
   "cell_type": "markdown",
   "metadata": {},
   "source": [
    "Наши гипотезы:\n",
    "1. Аудитория активнее взаимодействует с более свежими фильмами по сравнению со старыми фильмами\n",
    "2. Титулованность фильма не будет влиять на отклик аудитории или будет влиять отрицательно\n",
    "3. Если фильм выиграл Оскар, то скорее всего у него есть и еще одна награда из двух оставшихся: Золотой глобус или Золотая пальмовая ветвь\n",
    "4. Люди больше взаимодействуют с постами, включающими только картинки, нежели чем с постами, посвященными фильмам\n",
    "\n",
    "Приступим к проверке."
   ]
  },
  {
   "cell_type": "markdown",
   "metadata": {},
   "source": [
    "##### Гипотеза 1\n",
    "\n",
    "**Аудитория активнее взаимодействует с более свежими фильмами по сравнению со старыми фильмами**\n",
    "\n",
    "Перменными, отражающими взаимодействие, будут log_likes, log_reposts, log_comments и ER.\n",
    "\n",
    "\\begin{array}{l}\n",
    "\\text{Нулевая гипотеза } (H_0): \\mu_0 = \\mu_1 \\\\\n",
    "\\text{Альтернативная гипотеза } (H_1): \\mu_0 > \\mu_1\n",
    "\\end{array}\n",
    "\n",
    "Так как разрыв в годах выпуска между самым старым и новым фильмами 121 год, то будем считат фильм новым, если он был выпущен в 1991 году или позднее. Разделим данные на две выборки: со старыми и новыми фильмами."
   ]
  },
  {
   "cell_type": "code",
   "execution_count": 20,
   "metadata": {},
   "outputs": [],
   "source": [
    "movies_old = movies[movies['year'] < 1991]\n",
    "movies_new = movies[movies['year'] >= 1991]"
   ]
  },
  {
   "cell_type": "markdown",
   "metadata": {},
   "source": [
    "Проверим, равны ли у выделенных выборок дисперсии."
   ]
  },
  {
   "cell_type": "code",
   "execution_count": 21,
   "metadata": {},
   "outputs": [
    {
     "data": {
      "text/plain": [
       "likes            1.026698e+04\n",
       "reposts          9.009269e+03\n",
       "views            7.251084e+07\n",
       "comments         2.489698e+01\n",
       "attachments      3.760200e-01\n",
       "year             1.277992e+02\n",
       "oscar_winner     7.604340e-03\n",
       "oscar_nominee    4.733702e-02\n",
       "palme_winner     7.604340e-03\n",
       "globe_winner     1.509169e-02\n",
       "movie_flg        0.000000e+00\n",
       "log_likes        4.605859e-01\n",
       "log_reposts      7.787391e-01\n",
       "log_views        2.449293e-01\n",
       "log_comments     7.891722e-01\n",
       "reactions        3.589965e+04\n",
       "ER               3.674786e-01\n",
       "prize            3.737826e-02\n",
       "other_award      2.246205e-02\n",
       "dtype: float64"
      ]
     },
     "execution_count": 21,
     "metadata": {},
     "output_type": "execute_result"
    }
   ],
   "source": [
    "np.var(movies_old, ddof=1)"
   ]
  },
  {
   "cell_type": "code",
   "execution_count": 22,
   "metadata": {},
   "outputs": [
    {
     "data": {
      "text/plain": [
       "likes            1.871790e+04\n",
       "reposts          9.509907e+03\n",
       "views            8.503812e+07\n",
       "comments         4.323125e+01\n",
       "attachments      3.342910e-01\n",
       "year             9.608565e+01\n",
       "oscar_winner     1.343887e-02\n",
       "oscar_nominee    7.048928e-02\n",
       "palme_winner     2.132449e-02\n",
       "globe_winner     1.343887e-02\n",
       "movie_flg        0.000000e+00\n",
       "log_likes        5.723889e-01\n",
       "log_reposts      6.781536e-01\n",
       "log_views        2.372845e-01\n",
       "log_comments     9.255400e-01\n",
       "reactions        4.939633e+04\n",
       "ER               4.568789e-01\n",
       "prize            6.299609e-02\n",
       "other_award      3.417101e-02\n",
       "dtype: float64"
      ]
     },
     "execution_count": 22,
     "metadata": {},
     "output_type": "execute_result"
    }
   ],
   "source": [
    "np.var(movies_new, ddof=1)"
   ]
  },
  {
   "cell_type": "markdown",
   "metadata": {},
   "source": [
    "Дисперсии не равны. Будем это учитывать при проведении теста.\n",
    "Для проверки гипотезы будем использовать двувыборочный t-тест, так как данные являются количественными, распределены нормально, а выборки являются независимыми. Будем проверять гипотезу на уровне значимости 5%."
   ]
  },
  {
   "cell_type": "code",
   "execution_count": 23,
   "metadata": {},
   "outputs": [
    {
     "data": {
      "text/plain": [
       "Ttest_indResult(statistic=7.281100046033788, pvalue=5.261841944783864e-13)"
      ]
     },
     "execution_count": 23,
     "metadata": {},
     "output_type": "execute_result"
    }
   ],
   "source": [
    "stats.ttest_ind(movies_new['log_likes'], movies_old['log_likes'], alternative = 'greater', equal_var = False)"
   ]
  },
  {
   "cell_type": "code",
   "execution_count": 24,
   "metadata": {},
   "outputs": [
    {
     "data": {
      "text/plain": [
       "Ttest_indResult(statistic=6.9944275447686675, pvalue=3.590441583408903e-12)"
      ]
     },
     "execution_count": 24,
     "metadata": {},
     "output_type": "execute_result"
    }
   ],
   "source": [
    "stats.ttest_ind(movies_new['ER'], movies_old['ER'], alternative = 'greater', equal_var = False)"
   ]
  },
  {
   "cell_type": "code",
   "execution_count": 25,
   "metadata": {},
   "outputs": [
    {
     "data": {
      "text/plain": [
       "Ttest_indResult(statistic=6.569269295369289, pvalue=5.974830477310235e-11)"
      ]
     },
     "execution_count": 25,
     "metadata": {},
     "output_type": "execute_result"
    }
   ],
   "source": [
    "stats.ttest_ind(movies_new['log_reposts'], movies_old['log_reposts'], alternative = 'greater', equal_var = False)"
   ]
  },
  {
   "cell_type": "code",
   "execution_count": 26,
   "metadata": {},
   "outputs": [
    {
     "data": {
      "text/plain": [
       "Ttest_indResult(statistic=7.07762769354463, pvalue=2.097854379740498e-12)"
      ]
     },
     "execution_count": 26,
     "metadata": {},
     "output_type": "execute_result"
    }
   ],
   "source": [
    "stats.ttest_ind(movies_new['log_comments'], movies_old['log_comments'], alternative = 'greater', equal_var = False)"
   ]
  },
  {
   "cell_type": "markdown",
   "metadata": {},
   "source": [
    "**Вывод:** так как во всех случаях у нас получился мизерный p-value, то мы отвергаем нулевую гипотезу о равенстве среднего количества лайков/репостов/комментариев/ER для новых и старых фильмов в пользу альтернативной о том, что данные показатели больше для более свежих фильмов. Гипотеза **подтвердилась**."
   ]
  },
  {
   "cell_type": "markdown",
   "metadata": {},
   "source": [
    "##### Гипотеза 2\n",
    "\n",
    "**Титулованность фильма не будет влиять на отклик аудитории или будет влиять отрицательно**\n",
    "\n",
    "Здесь мы будем смотреть на переменные prize и ER. Уровень значимости снова 5%.\n",
    "\n",
    "\\begin{array}{l}\n",
    "\\text{Нулевая гипотеза } (H_0): \\rho \\leq 0 \\\\\n",
    "\\text{Альтернативная гипотеза } (H_1): \\rho > 0\n",
    "\\end{array}"
   ]
  },
  {
   "cell_type": "markdown",
   "metadata": {},
   "source": [
    "Сначала посмотрим наблюдаемый коэффициент корреляции."
   ]
  },
  {
   "cell_type": "code",
   "execution_count": 30,
   "metadata": {},
   "outputs": [
    {
     "data": {
      "text/plain": [
       "0.014865169239513578"
      ]
     },
     "execution_count": 30,
     "metadata": {},
     "output_type": "execute_result"
    }
   ],
   "source": [
    " o_corr = movies['prize'].corr(movies['ER'])\n",
    " o_corr"
   ]
  },
  {
   "cell_type": "markdown",
   "metadata": {},
   "source": [
    "Теперь нам надо понять, является ли полученный результат статистически значимым. Для этого проведем тест перестановок."
   ]
  },
  {
   "cell_type": "code",
   "execution_count": 29,
   "metadata": {},
   "outputs": [
    {
     "data": {
      "text/plain": [
       "0.7089"
      ]
     },
     "execution_count": 29,
     "metadata": {},
     "output_type": "execute_result"
    }
   ],
   "source": [
    "results = []\n",
    "y = movies['ER']\n",
    "for i in range(10000):\n",
    "    x = np.random.permutation(movies['prize'])\n",
    "    corr_coef = np.corrcoef(x, y)[0, 1]\n",
    "    results.append(corr_coef)\n",
    "\n",
    "pvalue = np.sum(np.abs(results) >= np.abs(o_corr))/10000\n",
    "pvalue "
   ]
  },
  {
   "cell_type": "markdown",
   "metadata": {},
   "source": [
    "**Вывод:** так как мы получили p-value, который гораздо больше установленного уровня значимости (5%), то мы не отвергаем нулевую гипотезу о существовании корреляции, которая либо равна (очень близка к 0), либо меньше 0"
   ]
  },
  {
   "cell_type": "markdown",
   "metadata": {},
   "source": [
    "##### Гипотеза 3\n",
    "\n",
    "**Если фильм номинирован на Оскар, то скорее всего у него есть и еще одна награда из двух оставшихся**\n",
    "\n",
    "Здесь обратим внимание на переменные oscar_winner и other award. Уровень значимости равен 5%."
   ]
  },
  {
   "cell_type": "markdown",
   "metadata": {},
   "source": [
    "\\begin{array}{l}\n",
    "\\text{Нулевая гипотеза } (H_0): присуждение\\ Оскара\\ и\\ обладание\\ другими\\ наградами\\ -\\ независимые\\ признаки \\\\\n",
    "\\text{Альтернативная гипотеза } (H_1): присуждение\\ Оскара\\ и\\ обладание\\ другими\\ наградами\\ не\\ являются\\ независимыми\\ признаками\n",
    "\\end{array}"
   ]
  },
  {
   "cell_type": "markdown",
   "metadata": {},
   "source": [
    "Для проверки гипотезы будем использовать критерий независимости хи-квадрат, так как данные булевые и нам надо проверить наличие зависимости между признаками."
   ]
  },
  {
   "cell_type": "code",
   "execution_count": 31,
   "metadata": {},
   "outputs": [
    {
     "data": {
      "text/plain": [
       "Chi2ContingencyResult(statistic=53.4243385362577, pvalue=2.687465684202394e-13, dof=1, expected_freq=array([[6.04211111e+02, 1.87888889e+01],\n",
       "       [6.78888889e+00, 2.11111111e-01]]))"
      ]
     },
     "execution_count": 31,
     "metadata": {},
     "output_type": "execute_result"
    }
   ],
   "source": [
    "table = pd.crosstab(movies['oscar_winner'], movies['other_award'])\n",
    "stats.chi2_contingency(table)"
   ]
  },
  {
   "cell_type": "markdown",
   "metadata": {},
   "source": [
    "**Вывод:** у нас очень маленький p-value, поэтому мы отвергаем нулевую гипотезу о том, что нет зависимости между присуждением Оскара и получением \"Золотого глобуса\" или \"Пальмовой ветви\". Наша первоначальная гипотеза **подтвердилась**."
   ]
  },
  {
   "cell_type": "markdown",
   "metadata": {},
   "source": [
    "##### Гипотеза 4\n",
    "\n",
    "**Люди больше взаимодействуют с постами, включающими только картинки, нежели чем с постами, посвященными фильмам**\n",
    "\n",
    "\n",
    "\\begin{array}{l}\n",
    "\\text{Нулевая гипотеза } (H_0): \\mu_0 = \\mu_1 \\\\\n",
    "\\text{Альтернативная гипотеза } (H_1): \\mu_0 > \\mu_1\n",
    "\\end{array}\n",
    "\n",
    "Тут будем использовать переменные movie_flg и ER. Сначала посмотрим, равны ли дисперсии ER для постов с информацией о фильмах и просто картинками."
   ]
  },
  {
   "cell_type": "code",
   "execution_count": 32,
   "metadata": {},
   "outputs": [
    {
     "name": "stdout",
     "output_type": "stream",
     "text": [
      "0.4505296322022408\n",
      "0.6215350137651525\n"
     ]
    }
   ],
   "source": [
    "print(movies['ER'].var(ddof = 1))\n",
    "print(visuals['ER'].var(ddof = 1))"
   ]
  },
  {
   "cell_type": "markdown",
   "metadata": {},
   "source": [
    "Дисперсии не равны. Учтем это при проведении теста. Будем использовать t-тест. Уровень значимости снова 5%."
   ]
  },
  {
   "cell_type": "code",
   "execution_count": 33,
   "metadata": {},
   "outputs": [
    {
     "data": {
      "text/plain": [
       "Ttest_indResult(statistic=2.9717187575918502, pvalue=0.0015460989077053977)"
      ]
     },
     "execution_count": 33,
     "metadata": {},
     "output_type": "execute_result"
    }
   ],
   "source": [
    "stats.ttest_ind(visuals['ER'], movies['ER'], alternative = 'greater', equal_var = False)"
   ]
  },
  {
   "cell_type": "markdown",
   "metadata": {},
   "source": [
    "**Вывод:** p-value меньше установленных 5%, поэтому мы отвергаем нулевую гипотезу в сторону альтернативной и можем говорить о том, что люди больше взаимодействуют с постами, включающими только картинки. Гипотеза **подтвердилась**."
   ]
  }
 ],
 "metadata": {
  "kernelspec": {
   "display_name": "base",
   "language": "python",
   "name": "python3"
  },
  "language_info": {
   "codemirror_mode": {
    "name": "ipython",
    "version": 3
   },
   "file_extension": ".py",
   "mimetype": "text/x-python",
   "name": "python",
   "nbconvert_exporter": "python",
   "pygments_lexer": "ipython3",
   "version": "3.10.9"
  }
 },
 "nbformat": 4,
 "nbformat_minor": 2
}
